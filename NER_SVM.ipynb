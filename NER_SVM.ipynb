{
  "metadata": {
    "kernelspec": {
      "name": "python3",
      "display_name": "Python 3",
      "language": "python"
    },
    "language_info": {
      "name": "python",
      "version": "3.10.12",
      "mimetype": "text/x-python",
      "codemirror_mode": {
        "name": "ipython",
        "version": 3
      },
      "pygments_lexer": "ipython3",
      "nbconvert_exporter": "python",
      "file_extension": ".py"
    },
    "colab": {
      "provenance": [],
      "collapsed_sections": [
        "sE7Vo8sop6dJ",
        "WXLNk6h9qngn"
      ]
    },
    "kaggle": {
      "accelerator": "nvidiaTeslaT4",
      "dataSources": [
        {
          "sourceId": 11055188,
          "sourceType": "datasetVersion",
          "datasetId": 6887539
        }
      ],
      "dockerImageVersionId": 30919,
      "isInternetEnabled": true,
      "language": "python",
      "sourceType": "notebook",
      "isGpuEnabled": true
    }
  },
  "nbformat_minor": 0,
  "nbformat": 4,
  "cells": [
    {
      "cell_type": "markdown",
      "source": [
        "# **Install**"
      ],
      "metadata": {
        "id": "sE7Vo8sop6dJ"
      }
    },
    {
      "cell_type": "code",
      "source": [
        "!pip install flair seqeval pytorch-crf sklearn-crfsuite --quiet"
      ],
      "metadata": {
        "id": "MZU-lRdBpxpZ",
        "trusted": true,
        "execution": {
          "iopub.status.busy": "2025-04-21T06:28:18.022368Z",
          "iopub.execute_input": "2025-04-21T06:28:18.022713Z",
          "iopub.status.idle": "2025-04-21T06:28:35.993675Z",
          "shell.execute_reply.started": "2025-04-21T06:28:18.022691Z",
          "shell.execute_reply": "2025-04-21T06:28:35.992589Z"
        }
      },
      "outputs": [],
      "execution_count": null
    },
    {
      "cell_type": "code",
      "source": [
        "!pip install --upgrade flair"
      ],
      "metadata": {
        "id": "b0ehQkLNqAoS",
        "trusted": true,
        "execution": {
          "iopub.status.busy": "2025-04-21T06:29:17.690355Z",
          "iopub.execute_input": "2025-04-21T06:29:17.690684Z",
          "iopub.status.idle": "2025-04-21T06:29:21.236276Z",
          "shell.execute_reply.started": "2025-04-21T06:29:17.690655Z",
          "shell.execute_reply": "2025-04-21T06:29:21.235258Z"
        }
      },
      "outputs": [],
      "execution_count": null
    },
    {
      "cell_type": "code",
      "source": [
        "!pip install flair[word-embeddings]"
      ],
      "metadata": {
        "id": "ckSJzjcSp8AB",
        "trusted": true,
        "execution": {
          "iopub.status.busy": "2025-04-21T06:29:27.922410Z",
          "iopub.execute_input": "2025-04-21T06:29:27.922734Z",
          "iopub.status.idle": "2025-04-21T06:29:31.620791Z",
          "shell.execute_reply.started": "2025-04-21T06:29:27.922710Z",
          "shell.execute_reply": "2025-04-21T06:29:31.619739Z"
        }
      },
      "outputs": [],
      "execution_count": null
    },
    {
      "cell_type": "markdown",
      "source": [
        "# **Import Dataset and Libraries**"
      ],
      "metadata": {
        "id": "1p1NPXHYqFq-"
      }
    },
    {
      "cell_type": "code",
      "source": [
        "import pandas as pd\n",
        "import numpy as np\n",
        "from sklearn.model_selection import train_test_split\n",
        "from sklearn.metrics import classification_report, confusion_matrix\n",
        "import seaborn as sns\n",
        "import matplotlib.pyplot as plt"
      ],
      "metadata": {
        "id": "n4olUmYEqH2v",
        "trusted": true,
        "execution": {
          "iopub.status.busy": "2025-04-21T06:30:34.639892Z",
          "iopub.execute_input": "2025-04-21T06:30:34.640213Z",
          "iopub.status.idle": "2025-04-21T06:30:35.870909Z",
          "shell.execute_reply.started": "2025-04-21T06:30:34.640189Z",
          "shell.execute_reply": "2025-04-21T06:30:35.870255Z"
        }
      },
      "outputs": [],
      "execution_count": null
    },
    {
      "cell_type": "code",
      "source": [
        "# 1. Baca dataset\n",
        "file_path = \"/kaggle/input/nerskill/NERSkill.Id.txt\"\n",
        "df = pd.read_csv(file_path, delimiter=\"\\t\", names=[\"Sentence #\", \"Word\", \"Tag\"], skiprows=1)\n",
        "\n",
        "# Mengisi nilai kosong di kolom \"Sentence #\"\n",
        "df[\"Sentence #\"] = df[\"Sentence #\"].ffill()  # Perbaikan FutureWarning\n",
        "\n",
        "# Grupkan dataset berdasarkan \"Sentence #\"\n",
        "sentences = (\n",
        "    df.groupby(\"Sentence #\", group_keys=False)  # Hindari DeprecationWarning\n",
        "    .apply(lambda s: list(zip(s[\"Word\"], s[\"Tag\"])))\n",
        "    .tolist()\n",
        ")\n",
        "\n",
        "# Pisahkan data menjadi training (70%), validation (20%), dan testing (10%)\n",
        "train_sentences, temp_sentences = train_test_split(sentences, test_size=0.3, random_state=42)\n",
        "val_sentences, test_sentences = train_test_split(temp_sentences, test_size=1/3, random_state=42)"
      ],
      "metadata": {
        "id": "YDInMBnyqJtI",
        "trusted": true,
        "execution": {
          "iopub.status.busy": "2025-04-21T06:30:38.582833Z",
          "iopub.execute_input": "2025-04-21T06:30:38.583224Z",
          "iopub.status.idle": "2025-04-21T06:30:39.370358Z",
          "shell.execute_reply.started": "2025-04-21T06:30:38.583201Z",
          "shell.execute_reply": "2025-04-21T06:30:39.369342Z"
        },
        "outputId": "e32ff110-a123-43db-fdd8-10ce63a292db"
      },
      "outputs": [
        {
          "name": "stderr",
          "text": "<ipython-input-11-f32273d4666c>:11: DeprecationWarning: DataFrameGroupBy.apply operated on the grouping columns. This behavior is deprecated, and in a future version of pandas the grouping columns will be excluded from the operation. Either pass `include_groups=False` to exclude the groupings or explicitly select the grouping columns after groupby to silence this warning.\n  .apply(lambda s: list(zip(s[\"Word\"], s[\"Tag\"])))\n",
          "output_type": "stream"
        }
      ],
      "execution_count": null
    },
    {
      "cell_type": "markdown",
      "source": [
        "# **SVM**"
      ],
      "metadata": {
        "id": "Za9DelMZqMZY"
      }
    },
    {
      "cell_type": "markdown",
      "source": [
        "## **DictVectorizer**"
      ],
      "metadata": {
        "id": "mufoe38WQuPG"
      }
    },
    {
      "cell_type": "code",
      "source": [
        "from sklearn.feature_extraction import DictVectorizer\n",
        "from sklearn.svm import LinearSVC\n",
        "from sklearn.preprocessing import LabelEncoder"
      ],
      "metadata": {
        "trusted": true,
        "execution": {
          "iopub.status.busy": "2025-04-21T04:48:36.550217Z",
          "iopub.execute_input": "2025-04-21T04:48:36.550536Z",
          "iopub.status.idle": "2025-04-21T04:48:36.640857Z",
          "shell.execute_reply.started": "2025-04-21T04:48:36.550512Z",
          "shell.execute_reply": "2025-04-21T04:48:36.640188Z"
        },
        "id": "xojkbUdsQuPG"
      },
      "outputs": [],
      "execution_count": null
    },
    {
      "cell_type": "code",
      "source": [
        "def word_features(sent, i):\n",
        "    \"\"\"Extract features from word in sentences\"\"\"\n",
        "    word = sent[i][0]\n",
        "\n",
        "    features = {\n",
        "        'bias': 1.0,\n",
        "        'word.lower()': word.lower(),\n",
        "        'word[-3:]': word[-3:],\n",
        "        'word.isupper()': word.isupper(),\n",
        "        'word.istitle()': word.istitle(),\n",
        "        'word.isdigit()': word.isdigit(),\n",
        "    }\n",
        "\n",
        "    # Contextual features\n",
        "    if i > 0:\n",
        "        prev_word = sent[i-1][0]\n",
        "        features.update({\n",
        "            '-1:word.lower()': prev_word.lower(),\n",
        "            '-1:word.istitle()': prev_word.istitle(),\n",
        "            '-1:word.isupper()': prev_word.isupper(),\n",
        "        })\n",
        "    else:\n",
        "        features['BOS'] = True  # Beginning of sentence\n",
        "\n",
        "    if i < len(sent)-1:\n",
        "        next_word = sent[i+1][0]\n",
        "        features.update({\n",
        "            '+1:word.lower()': next_word.lower(),\n",
        "            '+1:word.istitle()': next_word.istitle(),\n",
        "            '+1:word.isupper()': next_word.isupper(),\n",
        "        })\n",
        "    else:\n",
        "        features['EOS'] = True  # End of sentence\n",
        "\n",
        "    return features"
      ],
      "metadata": {
        "trusted": true,
        "execution": {
          "iopub.status.busy": "2025-04-21T04:48:39.173788Z",
          "iopub.execute_input": "2025-04-21T04:48:39.174069Z",
          "iopub.status.idle": "2025-04-21T04:48:39.181329Z",
          "shell.execute_reply.started": "2025-04-21T04:48:39.174049Z",
          "shell.execute_reply": "2025-04-21T04:48:39.180546Z"
        },
        "id": "ewGTeztWQuPG"
      },
      "outputs": [],
      "execution_count": null
    },
    {
      "cell_type": "code",
      "source": [
        "def prepare_data(sentences):\n",
        "    X = []\n",
        "    y = []\n",
        "    for sent in sentences:\n",
        "        for i in range(len(sent)):\n",
        "            features = word_features(sent, i)\n",
        "            X.append(features)\n",
        "            y.append(sent[i][1])\n",
        "    return X, y"
      ],
      "metadata": {
        "trusted": true,
        "execution": {
          "iopub.status.busy": "2025-04-21T04:48:42.206204Z",
          "iopub.execute_input": "2025-04-21T04:48:42.206496Z",
          "iopub.status.idle": "2025-04-21T04:48:42.210986Z",
          "shell.execute_reply.started": "2025-04-21T04:48:42.206475Z",
          "shell.execute_reply": "2025-04-21T04:48:42.210203Z"
        },
        "id": "x4i0OBGOQuPH"
      },
      "outputs": [],
      "execution_count": null
    },
    {
      "cell_type": "code",
      "source": [
        "X_train, y_train = prepare_data(train_sentences)\n",
        "\n",
        "vectorizer = DictVectorizer(sparse=False)\n",
        "X_train_vec = vectorizer.fit_transform(X_train)\n",
        "\n",
        "le = LabelEncoder()\n",
        "y_train_enc = le.fit_transform(y_train)"
      ],
      "metadata": {
        "trusted": true,
        "execution": {
          "iopub.status.busy": "2025-04-21T04:48:44.572888Z",
          "iopub.execute_input": "2025-04-21T04:48:44.573167Z",
          "iopub.status.idle": "2025-04-21T04:48:59.149343Z",
          "shell.execute_reply.started": "2025-04-21T04:48:44.573146Z",
          "shell.execute_reply": "2025-04-21T04:48:59.148634Z"
        },
        "id": "Rtj96SJVQuPH"
      },
      "outputs": [],
      "execution_count": null
    },
    {
      "cell_type": "code",
      "source": [
        "svm = LinearSVC(loss='squared_hinge', C=1.0, max_iter=1000)\n",
        "svm.fit(X_train_vec, y_train_enc)"
      ],
      "metadata": {
        "trusted": true,
        "execution": {
          "iopub.status.busy": "2025-04-21T04:57:37.310319Z",
          "iopub.execute_input": "2025-04-21T04:57:37.310682Z",
          "iopub.status.idle": "2025-04-21T04:58:33.884567Z",
          "shell.execute_reply.started": "2025-04-21T04:57:37.310653Z",
          "shell.execute_reply": "2025-04-21T04:58:33.883820Z"
        },
        "id": "MMO8SzsnQuPH",
        "outputId": "fd83d642-af14-4916-b734-99b5f1d9e99e"
      },
      "outputs": [
        {
          "execution_count": 35,
          "output_type": "execute_result",
          "data": {
            "text/plain": "LinearSVC()",
            "text/html": "<style>#sk-container-id-3 {color: black;background-color: white;}#sk-container-id-3 pre{padding: 0;}#sk-container-id-3 div.sk-toggleable {background-color: white;}#sk-container-id-3 label.sk-toggleable__label {cursor: pointer;display: block;width: 100%;margin-bottom: 0;padding: 0.3em;box-sizing: border-box;text-align: center;}#sk-container-id-3 label.sk-toggleable__label-arrow:before {content: \"▸\";float: left;margin-right: 0.25em;color: #696969;}#sk-container-id-3 label.sk-toggleable__label-arrow:hover:before {color: black;}#sk-container-id-3 div.sk-estimator:hover label.sk-toggleable__label-arrow:before {color: black;}#sk-container-id-3 div.sk-toggleable__content {max-height: 0;max-width: 0;overflow: hidden;text-align: left;background-color: #f0f8ff;}#sk-container-id-3 div.sk-toggleable__content pre {margin: 0.2em;color: black;border-radius: 0.25em;background-color: #f0f8ff;}#sk-container-id-3 input.sk-toggleable__control:checked~div.sk-toggleable__content {max-height: 200px;max-width: 100%;overflow: auto;}#sk-container-id-3 input.sk-toggleable__control:checked~label.sk-toggleable__label-arrow:before {content: \"▾\";}#sk-container-id-3 div.sk-estimator input.sk-toggleable__control:checked~label.sk-toggleable__label {background-color: #d4ebff;}#sk-container-id-3 div.sk-label input.sk-toggleable__control:checked~label.sk-toggleable__label {background-color: #d4ebff;}#sk-container-id-3 input.sk-hidden--visually {border: 0;clip: rect(1px 1px 1px 1px);clip: rect(1px, 1px, 1px, 1px);height: 1px;margin: -1px;overflow: hidden;padding: 0;position: absolute;width: 1px;}#sk-container-id-3 div.sk-estimator {font-family: monospace;background-color: #f0f8ff;border: 1px dotted black;border-radius: 0.25em;box-sizing: border-box;margin-bottom: 0.5em;}#sk-container-id-3 div.sk-estimator:hover {background-color: #d4ebff;}#sk-container-id-3 div.sk-parallel-item::after {content: \"\";width: 100%;border-bottom: 1px solid gray;flex-grow: 1;}#sk-container-id-3 div.sk-label:hover label.sk-toggleable__label {background-color: #d4ebff;}#sk-container-id-3 div.sk-serial::before {content: \"\";position: absolute;border-left: 1px solid gray;box-sizing: border-box;top: 0;bottom: 0;left: 50%;z-index: 0;}#sk-container-id-3 div.sk-serial {display: flex;flex-direction: column;align-items: center;background-color: white;padding-right: 0.2em;padding-left: 0.2em;position: relative;}#sk-container-id-3 div.sk-item {position: relative;z-index: 1;}#sk-container-id-3 div.sk-parallel {display: flex;align-items: stretch;justify-content: center;background-color: white;position: relative;}#sk-container-id-3 div.sk-item::before, #sk-container-id-3 div.sk-parallel-item::before {content: \"\";position: absolute;border-left: 1px solid gray;box-sizing: border-box;top: 0;bottom: 0;left: 50%;z-index: -1;}#sk-container-id-3 div.sk-parallel-item {display: flex;flex-direction: column;z-index: 1;position: relative;background-color: white;}#sk-container-id-3 div.sk-parallel-item:first-child::after {align-self: flex-end;width: 50%;}#sk-container-id-3 div.sk-parallel-item:last-child::after {align-self: flex-start;width: 50%;}#sk-container-id-3 div.sk-parallel-item:only-child::after {width: 0;}#sk-container-id-3 div.sk-dashed-wrapped {border: 1px dashed gray;margin: 0 0.4em 0.5em 0.4em;box-sizing: border-box;padding-bottom: 0.4em;background-color: white;}#sk-container-id-3 div.sk-label label {font-family: monospace;font-weight: bold;display: inline-block;line-height: 1.2em;}#sk-container-id-3 div.sk-label-container {text-align: center;}#sk-container-id-3 div.sk-container {/* jupyter's `normalize.less` sets `[hidden] { display: none; }` but bootstrap.min.css set `[hidden] { display: none !important; }` so we also need the `!important` here to be able to override the default hidden behavior on the sphinx rendered scikit-learn.org. See: https://github.com/scikit-learn/scikit-learn/issues/21755 */display: inline-block !important;position: relative;}#sk-container-id-3 div.sk-text-repr-fallback {display: none;}</style><div id=\"sk-container-id-3\" class=\"sk-top-container\"><div class=\"sk-text-repr-fallback\"><pre>LinearSVC()</pre><b>In a Jupyter environment, please rerun this cell to show the HTML representation or trust the notebook. <br />On GitHub, the HTML representation is unable to render, please try loading this page with nbviewer.org.</b></div><div class=\"sk-container\" hidden><div class=\"sk-item\"><div class=\"sk-estimator sk-toggleable\"><input class=\"sk-toggleable__control sk-hidden--visually\" id=\"sk-estimator-id-3\" type=\"checkbox\" checked><label for=\"sk-estimator-id-3\" class=\"sk-toggleable__label sk-toggleable__label-arrow\">LinearSVC</label><div class=\"sk-toggleable__content\"><pre>LinearSVC()</pre></div></div></div></div></div>"
          },
          "metadata": {}
        }
      ],
      "execution_count": null
    },
    {
      "cell_type": "code",
      "source": [
        "def evaluate_model(sentences):\n",
        "    X, y = prepare_data(sentences)\n",
        "    X_vec = vectorizer.transform(X)\n",
        "    y_enc = le.transform(y)\n",
        "    preds = svm.predict(X_vec)\n",
        "    return classification_report(y_enc, preds, target_names=le.classes_)\n",
        "\n",
        "print(\"Validation Results:\")\n",
        "print(evaluate_model(val_sentences))"
      ],
      "metadata": {
        "trusted": true,
        "execution": {
          "iopub.status.busy": "2025-04-21T04:58:40.062616Z",
          "iopub.execute_input": "2025-04-21T04:58:40.062936Z",
          "iopub.status.idle": "2025-04-21T04:58:55.528278Z",
          "shell.execute_reply.started": "2025-04-21T04:58:40.062913Z",
          "shell.execute_reply": "2025-04-21T04:58:55.527528Z"
        },
        "id": "jKPpjsfnQuPH",
        "outputId": "9e22f2c7-e103-4c92-9421-a0654cf394b8"
      },
      "outputs": [
        {
          "name": "stdout",
          "text": "Validation Results:\n              precision    recall  f1-score   support\n\n    B-HSkill       0.70      0.62      0.66      3356\n    B-SSkill       0.81      0.84      0.82      2109\n      B-Tech       0.88      0.88      0.88      3511\n    I-HSkill       0.64      0.59      0.62      2328\n    I-SSkill       0.78      0.66      0.71       787\n      I-Tech       0.73      0.71      0.72       853\n           O       0.96      0.97      0.97     71180\n\n    accuracy                           0.93     84124\n   macro avg       0.78      0.75      0.77     84124\nweighted avg       0.93      0.93      0.93     84124\n\n",
          "output_type": "stream"
        }
      ],
      "execution_count": null
    },
    {
      "cell_type": "code",
      "source": [
        "from sklearn.metrics import classification_report\n",
        "from seqeval.metrics import classification_report as seqeval_report\n",
        "from seqeval.metrics import accuracy_score, f1_score\n",
        "\n",
        "def evaluate_ner(model, sentences, vectorizer, le):\n",
        "    \"\"\"\n",
        "    Proper NER evaluation that:\n",
        "    1. Maintains sentence structure\n",
        "    2. Respects BIO/IOB tagging scheme\n",
        "    3. Reports entity-level metrics (not just token-level)\n",
        "    \"\"\"\n",
        "    true_tags = []\n",
        "    pred_tags = []\n",
        "\n",
        "    for sent in sentences:\n",
        "        # Get true tags for the sentence\n",
        "        sent_true_tags = [tag for word, tag in sent]\n",
        "        true_tags.append(sent_true_tags)\n",
        "\n",
        "        # Predict tags for each word in sentence\n",
        "        sent_pred_tags = []\n",
        "        for i in range(len(sent)):\n",
        "            features = word_features(sent, i)\n",
        "            X_vec = vectorizer.transform(features)\n",
        "            pred = model.predict(X_vec)[0]\n",
        "            sent_pred_tags.append(le.inverse_transform([pred])[0])\n",
        "        pred_tags.append(sent_pred_tags)\n",
        "\n",
        "    # Token-level classification report (sklearn)\n",
        "    print(\"Token-Level Classification Report:\")\n",
        "    print(classification_report(\n",
        "        [tag for sent in true_tags for tag in sent],\n",
        "        [tag for sent in pred_tags for tag in sent],\n",
        "        target_names=le.classes_\n",
        "    ))\n",
        "\n",
        "    # Sequence-level evaluation (seqeval)\n",
        "    print(\"\\nEntity-Level Classification Report:\")\n",
        "    print(seqeval_report(true_tags, pred_tags))\n",
        "\n",
        "    return true_tags, pred_tags\n",
        "\n",
        "# Usage\n",
        "true_tags, pred_tags = evaluate_ner(svm, test_sentences, vectorizer, le)"
      ],
      "metadata": {
        "trusted": true,
        "execution": {
          "iopub.status.busy": "2025-04-21T04:59:14.637771Z",
          "iopub.execute_input": "2025-04-21T04:59:14.638055Z",
          "iopub.status.idle": "2025-04-21T04:59:40.051476Z",
          "shell.execute_reply.started": "2025-04-21T04:59:14.638035Z",
          "shell.execute_reply": "2025-04-21T04:59:40.050600Z"
        },
        "id": "d03Rs5YQQuPH",
        "outputId": "56249ce4-79c1-4a83-d844-8e8c5404416c"
      },
      "outputs": [
        {
          "name": "stdout",
          "text": "Token-Level Classification Report:\n              precision    recall  f1-score   support\n\n    B-HSkill       0.72      0.61      0.66      1751\n    B-SSkill       0.80      0.83      0.81      1116\n      B-Tech       0.87      0.87      0.87      1538\n    I-HSkill       0.66      0.58      0.62      1159\n    I-SSkill       0.76      0.63      0.69       377\n      I-Tech       0.74      0.73      0.74       394\n           O       0.96      0.97      0.96     34697\n\n    accuracy                           0.93     41032\n   macro avg       0.79      0.75      0.76     41032\nweighted avg       0.93      0.93      0.93     41032\n\n\nEntity-Level Classification Report:\n              precision    recall  f1-score   support\n\n      HSkill       0.54      0.54      0.54      1763\n      SSkill       0.74      0.79      0.76      1132\n        Tech       0.80      0.82      0.81      1540\n\n   micro avg       0.69      0.70      0.69      4435\n   macro avg       0.70      0.71      0.70      4435\nweighted avg       0.68      0.70      0.69      4435\n\n",
          "output_type": "stream"
        }
      ],
      "execution_count": null
    },
    {
      "cell_type": "code",
      "source": [
        "from sklearn.metrics import confusion_matrix\n",
        "from seqeval.metrics import classification_report\n",
        "from collections import defaultdict\n",
        "\n",
        "def token_level_confusion(true_tags, pred_tags, le):\n",
        "    # Flatten tags and exclude 'O'\n",
        "    y_true = [tag for sent in true_tags for tag in sent]\n",
        "    y_pred = [tag for sent in pred_tags for tag in sent]\n",
        "\n",
        "    # Get labels excluding 'O'\n",
        "    labels = [label for label in le.classes_ if label != 'O']\n",
        "\n",
        "    # Create confusion matrix\n",
        "    cm = confusion_matrix(y_true, y_pred, labels=labels)\n",
        "\n",
        "    # Plot\n",
        "    plt.figure(figsize=(12, 10))\n",
        "    sns.heatmap(cm, annot=True, fmt='d', cmap='Blues',\n",
        "                xticklabels=labels, yticklabels=labels)\n",
        "    plt.title('Token-Level Confusion Matrix (Excluding \"O\")')\n",
        "    plt.xlabel('Predicted')\n",
        "    plt.ylabel('True')\n",
        "    plt.show()\n",
        "\n",
        "# Run all analyses\n",
        "print(\"=== Token-Level Analysis ===\")\n",
        "token_level_confusion(true_tags, pred_tags, le)"
      ],
      "metadata": {
        "trusted": true,
        "execution": {
          "iopub.status.busy": "2025-04-21T05:11:55.200937Z",
          "iopub.execute_input": "2025-04-21T05:11:55.201251Z",
          "iopub.status.idle": "2025-04-21T05:11:55.599849Z",
          "shell.execute_reply.started": "2025-04-21T05:11:55.201225Z",
          "shell.execute_reply": "2025-04-21T05:11:55.598996Z"
        },
        "id": "5IhKL5mFQuPH",
        "outputId": "b207c760-05f8-4f07-bc28-3bd86676d6b7"
      },
      "outputs": [
        {
          "name": "stdout",
          "text": "=== Token-Level Analysis ===\n",
          "output_type": "stream"
        },
        {
          "output_type": "display_data",
          "data": {
            "text/plain": "<Figure size 1200x1000 with 2 Axes>",
            "image/png": "[encoded data removed]"
          },
          "metadata": {}
        }
      ],
      "execution_count": null
    },
    {
      "cell_type": "code",
      "source": [
        "def entity_level_confusion_matrix(true_tags, pred_tags):\n",
        "    # Get all entity types (excluding 'O')\n",
        "    entity_types = set()\n",
        "    for sent_true, sent_pred in zip(true_tags, pred_tags):\n",
        "        for tag in sent_true + sent_pred:\n",
        "            if tag != 'O':\n",
        "                entity_types.add(tag.split('-')[1] if '-' in tag else tag)\n",
        "\n",
        "    # Initialize matrix\n",
        "    entity_types = sorted(entity_types)\n",
        "    cm = np.zeros((len(entity_types), len(entity_types)), dtype=int)\n",
        "\n",
        "    # Count errors\n",
        "    for sent_true, sent_pred in zip(true_tags, pred_tags):\n",
        "        true_entities = get_entities(sent_true)\n",
        "        pred_entities = get_entities(sent_pred)\n",
        "\n",
        "        for true_entity in true_entities:\n",
        "            true_type = true_entity[0]\n",
        "            if true_type not in entity_types:\n",
        "                continue\n",
        "\n",
        "            found = False\n",
        "            for pred_entity in pred_entities:\n",
        "                if true_entity[1:] == pred_entity[1:]:  # Same span\n",
        "                    pred_type = pred_entity[0]\n",
        "                    if pred_type in entity_types:\n",
        "                        cm[entity_types.index(true_type),\n",
        "                           entity_types.index(pred_type)] += 1\n",
        "                    found = True\n",
        "                    break\n",
        "\n",
        "            if not found:  # False Negative\n",
        "                cm[entity_types.index(true_type),\n",
        "                   entity_types.index(true_type)] += 0  # FN not shown in diagonal\n",
        "\n",
        "    return cm, entity_types\n",
        "\n",
        "# Helper function to extract entities (from seqeval)\n",
        "def get_entities(seq):\n",
        "    \"\"\"Convert BIO tags to entity list\"\"\"\n",
        "    entities = []\n",
        "    entity = None\n",
        "    for i, tag in enumerate(seq):\n",
        "        if tag.startswith('B-'):\n",
        "            if entity is not None:\n",
        "                entities.append(entity)\n",
        "            entity = [tag[2:], i, i]  # [type, start, end]\n",
        "        elif tag.startswith('I-'):\n",
        "            if entity is not None and tag[2:] == entity[0]:\n",
        "                entity[2] = i\n",
        "            else:\n",
        "                if entity is not None:\n",
        "                    entities.append(entity)\n",
        "                entity = None\n",
        "        else:\n",
        "            if entity is not None:\n",
        "                entities.append(entity)\n",
        "            entity = None\n",
        "    if entity is not None:\n",
        "        entities.append(entity)\n",
        "    return entities\n",
        "\n",
        "# Generate and plot\n",
        "entity_cm, entity_labels = entity_level_confusion_matrix(true_tags, pred_tags)\n",
        "\n",
        "plt.figure(figsize=(10, 8))\n",
        "sns.heatmap(entity_cm, annot=True, fmt='d',\n",
        "            xticklabels=entity_labels,\n",
        "            yticklabels=entity_labels,\n",
        "            cmap='Blues')\n",
        "plt.title('Entity-Level Confusion Matrix')\n",
        "plt.xlabel('Predicted')\n",
        "plt.ylabel('True')\n",
        "plt.tight_layout()\n",
        "plt.show()"
      ],
      "metadata": {
        "trusted": true,
        "execution": {
          "iopub.status.busy": "2025-04-21T05:00:02.335094Z",
          "iopub.execute_input": "2025-04-21T05:00:02.335407Z",
          "iopub.status.idle": "2025-04-21T05:00:02.598640Z",
          "shell.execute_reply.started": "2025-04-21T05:00:02.335382Z",
          "shell.execute_reply": "2025-04-21T05:00:02.597961Z"
        },
        "id": "iYhq1B94QuPI",
        "outputId": "c8fb287c-bdf1-439a-b97e-303bfaf62031"
      },
      "outputs": [
        {
          "output_type": "display_data",
          "data": {
            "text/plain": "<Figure size 1000x800 with 2 Axes>",
            "image/png": "[encoded data removed]"
          },
          "metadata": {}
        }
      ],
      "execution_count": null
    },
    {
      "cell_type": "code",
      "source": [
        "def token_comparison(true_tags, pred_tags, test_sentences):\n",
        "    correct = []\n",
        "    incorrect = []\n",
        "\n",
        "    for sent, true, pred in zip(test_sentences, true_tags, pred_tags):\n",
        "        for (word, _), t, p in zip(sent, true, pred):\n",
        "            if t == 'O' and p == 'O':\n",
        "                continue\n",
        "\n",
        "            if t == p:\n",
        "                correct.append((word, t))\n",
        "            else:\n",
        "                incorrect.append((word, t, p))\n",
        "\n",
        "    # Convert to DataFrames\n",
        "    correct_df = pd.DataFrame(correct, columns=['Word', 'Tag'])\n",
        "    incorrect_df = pd.DataFrame(incorrect, columns=['Word', 'True', 'Predicted'])\n",
        "\n",
        "    # Analysis\n",
        "    print(\"\\n=== Token-Level Correct Predictions (Top 20) ===\")\n",
        "    print(correct_df.value_counts().head(20))\n",
        "\n",
        "    print(\"\\n=== Token-Level Incorrect Predictions (Top 20) ===\")\n",
        "    print(incorrect_df.value_counts().head(20))\n",
        "\n",
        "    return correct_df, incorrect_df\n",
        "\n",
        "def entity_level_comparison(true_tags, pred_tags, test_sentences):\n",
        "    def extract_entities(tags, words):\n",
        "        entities = []\n",
        "        current = None\n",
        "\n",
        "        for i, (tag, word) in enumerate(zip(tags, words)):\n",
        "            if tag.startswith('B-'):\n",
        "                if current is not None:\n",
        "                    entities.append(current)\n",
        "                current = {'type': tag[2:], 'start': i, 'text': [word]}\n",
        "            elif tag.startswith('I-'):\n",
        "                if current is not None and tag[2:] == current['type']:\n",
        "                    current['text'].append(word)\n",
        "            else:\n",
        "                if current is not None:\n",
        "                    entities.append(current)\n",
        "                    current = None\n",
        "        if current is not None:\n",
        "            entities.append(current)\n",
        "\n",
        "        return [f\"{' '.join(e['text'])} [{e['type']}]\" for e in entities]\n",
        "\n",
        "    correct = []\n",
        "    incorrect = []\n",
        "    missed = []\n",
        "    spurious = []\n",
        "\n",
        "    for sent, true, pred in zip(test_sentences, true_tags, pred_tags):\n",
        "        words = [w for w, _ in sent]\n",
        "        true_ents = extract_entities(true, words)\n",
        "        pred_ents = extract_entities(pred, words)\n",
        "\n",
        "        # Correct entities\n",
        "        for ent in set(true_ents) & set(pred_ents):\n",
        "            correct.append(ent)\n",
        "\n",
        "        # Incorrect cases\n",
        "        for ent in set(true_ents) - set(pred_ents):\n",
        "            incorrect.append((ent, \"MISSED\"))\n",
        "            missed.append(ent)\n",
        "\n",
        "        for ent in set(pred_ents) - set(true_ents):\n",
        "            incorrect.append((ent, \"SPURIOUS\"))\n",
        "            spurious.append(ent)\n",
        "\n",
        "    # Analysis\n",
        "    print(\"\\n=== Entity-Level Correct Predictions (Top 20) ===\")\n",
        "    print(pd.Series(correct).value_counts().head(20))\n",
        "\n",
        "    print(\"\\n=== Entity-Level Errors ===\")\n",
        "    print(f\"Missed entities: {len(missed)}\")\n",
        "    print(f\"Spurious entities: {len(spurious)}\")\n",
        "\n",
        "    print(\"\\n=== Entity-Level Error Examples (Top 20) ===\")\n",
        "    error_df = pd.DataFrame(incorrect, columns=['Entity', 'Error'])\n",
        "    print(error_df.value_counts().head(20))\n",
        "\n",
        "    return correct, incorrect\n",
        "\n",
        "correct_tokens, incorrect_tokens = token_comparison(true_tags, pred_tags, test_sentences)\n",
        "\n",
        "print(\"\\n=== Entity-Level Analysis ===\")\n",
        "correct_ents, incorrect_ents = entity_level_comparison(true_tags, pred_tags, test_sentences)"
      ],
      "metadata": {
        "trusted": true,
        "execution": {
          "iopub.status.busy": "2025-04-21T05:12:02.974978Z",
          "iopub.execute_input": "2025-04-21T05:12:02.975287Z",
          "iopub.status.idle": "2025-04-21T05:12:03.039855Z",
          "shell.execute_reply.started": "2025-04-21T05:12:02.975264Z",
          "shell.execute_reply": "2025-04-21T05:12:03.039129Z"
        },
        "id": "KTyaZdZnQuPI",
        "outputId": "1f86fa05-4011-4e7d-ea34-ca5cd2d9ff79"
      },
      "outputs": [
        {
          "name": "stdout",
          "text": "\n=== Token-Level Correct Predictions (Top 20) ===\nWord         Tag     \nPHP          B-Tech      89\ntim          B-SSkill    66\nkomunikasi   B-SSkill    64\nHTML         B-Tech      54\npemrograman  B-HSkill    54\njaringan     B-HSkill    48\nlunak        I-HSkill    47\nperangkat    B-HSkill    46\nCSS          B-Tech      45\nMySQL        B-Tech      43\nJava         B-Tech      41\nInggris      I-SSkill    37\nsoftware     B-HSkill    36\nSoftware     B-HSkill    35\ntekanan      I-SSkill    33\nindividu     B-SSkill    32\nLinux        B-Tech      32\ndatabase     B-HSkill    31\nJavascript   B-Tech      30\nMicrosoft    B-Tech      30\nName: count, dtype: int64\n\n=== Token-Level Incorrect Predictions (Top 20) ===\nWord          True      Predicted\nIT            B-HSkill  O            34\ntim           O         B-SSkill     33\nsistem        B-HSkill  O            16\npengembangan  B-HSkill  O            15\nkomputer      I-HSkill  O            13\nlunak         O         I-HSkill     13\ndata          O         I-HSkill     11\naplikasi      B-HSkill  O            11\nbekerja       B-SSkill  O            11\nyang          I-SSkill  O            11\nbaik          I-SSkill  O            11\nsistem        I-HSkill  O            10\nProgrammer    B-HSkill  O            10\nperangkat     O         B-HSkill     10\ntekanan       O         I-SSkill     10\nkomunikasi    O         B-SSkill     10\naplikasi      I-HSkill  O             9\nDeveloper     I-HSkill  O             9\ninformasi     I-HSkill  O             9\nKomputer      B-HSkill  O             9\nName: count, dtype: int64\n\n=== Entity-Level Analysis ===\n\n=== Entity-Level Correct Predictions (Top 20) ===\nPHP [Tech]                73\ntim [SSkill]              63\nkomunikasi [SSkill]       55\nHTML [Tech]               51\nMySQL [Tech]              41\nCSS [Tech]                40\npemrograman [HSkill]      40\nindividu [SSkill]         32\njaringan [HSkill]         29\nJava [Tech]               29\nberkomunikasi [SSkill]    29\nJujur [SSkill]            28\nJavascript [Tech]         28\nteliti [SSkill]           28\nSQL [HSkill]              27\nteam [SSkill]             26\nJavaScript [Tech]         25\nsoftware [HSkill]         24\nLinux [Tech]              22\nSoftware [HSkill]         22\nName: count, dtype: int64\n\n=== Entity-Level Errors ===\nMissed entities: 1260\nSpurious entities: 1008\n\n=== Entity-Level Error Examples (Top 20) ===\nEntity                     Error   \ntim [SSkill]               SPURIOUS    29\nkomunikasi [SSkill]        SPURIOUS    17\npemrograman [HSkill]       SPURIOUS    11\ndesain [HSkill]            SPURIOUS    10\nIT [HSkill]                MISSED      10\nKomputer [HSkill]          MISSED       9\nC [Tech]                   SPURIOUS     8\nperangkat lunak [HSkill]   SPURIOUS     8\nC # [Tech]                 MISSED       8\ndatabase [HSkill]          MISSED       8\nSoftware [HSkill]          SPURIOUS     7\nprogram [HSkill]           MISSED       7\nSQL Server [Tech]          SPURIOUS     7\nmanajemen proyek [HSkill]  MISSED       7\nsistem [HSkill]            SPURIOUS     6\nProgrammer [HSkill]        MISSED       6\ntantangan [SSkill]         SPURIOUS     6\nSQL [HSkill]               SPURIOUS     6\nC [Tech]                   MISSED       6\nC # [Tech]                 SPURIOUS     6\nName: count, dtype: int64\n",
          "output_type": "stream"
        }
      ],
      "execution_count": null
    }
  ]
}