{
  "metadata": {
    "kernelspec": {
      "name": "python3",
      "display_name": "Python 3",
      "language": "python"
    },
    "language_info": {
      "name": "python",
      "version": "3.10.12",
      "mimetype": "text/x-python",
      "codemirror_mode": {
        "name": "ipython",
        "version": 3
      },
      "pygments_lexer": "ipython3",
      "nbconvert_exporter": "python",
      "file_extension": ".py"
    },
    "colab": {
      "provenance": [],
      "collapsed_sections": [
        "sE7Vo8sop6dJ",
        "WXLNk6h9qngn"
      ],
      "toc_visible": true
    },
    "kaggle": {
      "accelerator": "nvidiaTeslaT4",
      "dataSources": [
        {
          "sourceId": 11055188,
          "sourceType": "datasetVersion",
          "datasetId": 6887539
        }
      ],
      "dockerImageVersionId": 30919,
      "isInternetEnabled": true,
      "language": "python",
      "sourceType": "notebook",
      "isGpuEnabled": true
    }
  },
  "nbformat_minor": 0,
  "nbformat": 4,
  "cells": [
    {
      "cell_type": "markdown",
      "source": [
        "# **Install**"
      ],
      "metadata": {
        "id": "sE7Vo8sop6dJ"
      }
    },
    {
      "cell_type": "code",
      "source": [
        "!pip install flair seqeval pytorch-crf sklearn-crfsuite --quiet"
      ],
      "metadata": {
        "id": "MZU-lRdBpxpZ",
        "trusted": true,
        "execution": {
          "iopub.status.busy": "2025-04-21T06:28:18.022368Z",
          "iopub.execute_input": "2025-04-21T06:28:18.022713Z",
          "iopub.status.idle": "2025-04-21T06:28:35.993675Z",
          "shell.execute_reply.started": "2025-04-21T06:28:18.022691Z",
          "shell.execute_reply": "2025-04-21T06:28:35.992589Z"
        }
      },
      "outputs": [],
      "execution_count": null
    },
    {
      "cell_type": "code",
      "source": [
        "!pip install --upgrade flair"
      ],
      "metadata": {
        "id": "b0ehQkLNqAoS",
        "trusted": true,
        "execution": {
          "iopub.status.busy": "2025-04-21T06:29:17.690355Z",
          "iopub.execute_input": "2025-04-21T06:29:17.690684Z",
          "iopub.status.idle": "2025-04-21T06:29:21.236276Z",
          "shell.execute_reply.started": "2025-04-21T06:29:17.690655Z",
          "shell.execute_reply": "2025-04-21T06:29:21.235258Z"
        }
      },
      "outputs": [],
      "execution_count": null
    },
    {
      "cell_type": "code",
      "source": [
        "!pip install flair[word-embeddings]"
      ],
      "metadata": {
        "id": "ckSJzjcSp8AB",
        "trusted": true,
        "execution": {
          "iopub.status.busy": "2025-04-21T06:29:27.922410Z",
          "iopub.execute_input": "2025-04-21T06:29:27.922734Z",
          "iopub.status.idle": "2025-04-21T06:29:31.620791Z",
          "shell.execute_reply.started": "2025-04-21T06:29:27.922710Z",
          "shell.execute_reply": "2025-04-21T06:29:31.619739Z"
        }
      },
      "outputs": [],
      "execution_count": null
    },
    {
      "cell_type": "markdown",
      "source": [
        "# **Import Dataset and Libraries**"
      ],
      "metadata": {
        "id": "1p1NPXHYqFq-"
      }
    },
    {
      "cell_type": "code",
      "source": [
        "import pandas as pd\n",
        "import numpy as np\n",
        "from sklearn.model_selection import train_test_split\n",
        "from sklearn.metrics import classification_report, confusion_matrix\n",
        "import seaborn as sns\n",
        "import matplotlib.pyplot as plt"
      ],
      "metadata": {
        "id": "n4olUmYEqH2v",
        "trusted": true,
        "execution": {
          "iopub.status.busy": "2025-04-21T06:30:34.639892Z",
          "iopub.execute_input": "2025-04-21T06:30:34.640213Z",
          "iopub.status.idle": "2025-04-21T06:30:35.870909Z",
          "shell.execute_reply.started": "2025-04-21T06:30:34.640189Z",
          "shell.execute_reply": "2025-04-21T06:30:35.870255Z"
        }
      },
      "outputs": [],
      "execution_count": null
    },
    {
      "cell_type": "code",
      "source": [
        "file_path = \"/kaggle/input/nerskill/NERSkill.Id.txt\"\n",
        "df = pd.read_csv(file_path, delimiter=\"\\t\", names=[\"Sentence #\", \"Word\", \"Tag\"], skiprows=1)\n",
        "\n",
        "df[\"Sentence #\"] = df[\"Sentence #\"].ffill()\n",
        "\n",
        "sentences = (\n",
        "    df.groupby(\"Sentence #\", group_keys=False)\n",
        "    .apply(lambda s: list(zip(s[\"Word\"], s[\"Tag\"])))\n",
        "    .tolist()\n",
        ")\n",
        "\n",
        "train_sentences, temp_sentences = train_test_split(sentences, test_size=0.3, random_state=42)\n",
        "val_sentences, test_sentences = train_test_split(temp_sentences, test_size=1/3, random_state=42)"
      ],
      "metadata": {
        "id": "YDInMBnyqJtI",
        "trusted": true,
        "execution": {
          "iopub.status.busy": "2025-04-21T06:30:38.582833Z",
          "iopub.execute_input": "2025-04-21T06:30:38.583224Z",
          "iopub.status.idle": "2025-04-21T06:30:39.370358Z",
          "shell.execute_reply.started": "2025-04-21T06:30:38.583201Z",
          "shell.execute_reply": "2025-04-21T06:30:39.369342Z"
        },
        "outputId": "34f36d19-41d4-4f72-be34-1f63db277925"
      },
      "outputs": [
        {
          "name": "stderr",
          "text": "<ipython-input-11-f32273d4666c>:11: DeprecationWarning: DataFrameGroupBy.apply operated on the grouping columns. This behavior is deprecated, and in a future version of pandas the grouping columns will be excluded from the operation. Either pass `include_groups=False` to exclude the groupings or explicitly select the grouping columns after groupby to silence this warning.\n  .apply(lambda s: list(zip(s[\"Word\"], s[\"Tag\"])))\n",
          "output_type": "stream"
        }
      ],
      "execution_count": null
    },
    {
      "cell_type": "markdown",
      "source": [
        "# **Bi-LSTM CRF + FastText**"
      ],
      "metadata": {
        "id": "hmeEqILAqxiA"
      }
    },
    {
      "cell_type": "code",
      "source": [
        "import torch\n",
        "import torch.nn as nn\n",
        "from torch.utils.data import DataLoader, Dataset\n",
        "from flair.embeddings import WordEmbeddings\n",
        "from flair.data import Sentence\n",
        "from collections import defaultdict"
      ],
      "metadata": {
        "id": "8vzfetqvq0dw",
        "trusted": true,
        "execution": {
          "iopub.status.busy": "2025-04-21T06:31:10.290743Z",
          "iopub.execute_input": "2025-04-21T06:31:10.291030Z",
          "iopub.status.idle": "2025-04-21T06:31:35.062277Z",
          "shell.execute_reply.started": "2025-04-21T06:31:10.291009Z",
          "shell.execute_reply": "2025-04-21T06:31:35.061420Z"
        }
      },
      "outputs": [],
      "execution_count": null
    },
    {
      "cell_type": "code",
      "source": [
        "# Load pretrained FastText (Indonesia)\n",
        "fasttext_embedding = WordEmbeddings('id')\n",
        "\n",
        "def word_to_vector(word):\n",
        "    sentence = Sentence(word)\n",
        "    fasttext_embedding.embed(sentence)\n",
        "    return sentence[0].embedding.detach().cpu().numpy()  # Output: (300,)\n",
        "\n",
        "def convert_to_embeddings(sentences):\n",
        "    return [[word_to_vector(w) for w, _ in sent] for sent in sentences]\n",
        "\n",
        "X_train_unpad = convert_to_embeddings(train_sentences)\n",
        "X_val_unpad = convert_to_embeddings(val_sentences)\n",
        "X_test_unpad = convert_to_embeddings(test_sentences)\n",
        "\n",
        "MAX_LEN = max(max(len(s) for s in X_train_unpad), max(len(s) for s in X_val_unpad), max(len(s) for s in X_test_unpad))\n",
        "\n",
        "def pad_sequences(X):\n",
        "    return np.array([\n",
        "        np.pad(s, ((0, MAX_LEN - len(s)), (0, 0)), 'constant') for s in X\n",
        "    ])\n",
        "\n",
        "X_train = pad_sequences(X_train_unpad)\n",
        "X_val = pad_sequences(X_val_unpad)\n",
        "X_test = pad_sequences(X_test_unpad)\n",
        "\n",
        "print(f\"Shape X_train: {X_train.shape}, X_val: {X_val.shape}, X_test: {X_test.shape}\")\n"
      ],
      "metadata": {
        "id": "ifsrt86hq2O3",
        "trusted": true,
        "execution": {
          "iopub.status.busy": "2025-04-21T06:32:06.695240Z",
          "iopub.execute_input": "2025-04-21T06:32:06.695922Z",
          "iopub.status.idle": "2025-04-21T06:34:44.585710Z",
          "shell.execute_reply.started": "2025-04-21T06:32:06.695894Z",
          "shell.execute_reply": "2025-04-21T06:34:44.584809Z"
        },
        "outputId": "078343d1-456d-4799-bd62-cbab30338e9a"
      },
      "outputs": [
        {
          "name": "stdout",
          "text": "2025-04-21 06:32:07,225 https://flair.informatik.hu-berlin.de/resources/embeddings/token/id-wiki-fasttext-300d-1M.vectors.npy not found in cache, downloading to /tmp/tmpu6w39k3s\n",
          "output_type": "stream"
        },
        {
          "name": "stderr",
          "text": "100%|██████████| 344M/344M [00:17<00:00, 20.1MB/s] ",
          "output_type": "stream"
        },
        {
          "name": "stdout",
          "text": "2025-04-21 06:32:25,673 copying /tmp/tmpu6w39k3s to cache at /root/.flair/embeddings/id-wiki-fasttext-300d-1M.vectors.npy\n",
          "output_type": "stream"
        },
        {
          "name": "stderr",
          "text": "\n",
          "output_type": "stream"
        },
        {
          "name": "stdout",
          "text": "2025-04-21 06:32:25,956 removing temp file /tmp/tmpu6w39k3s\n2025-04-21 06:32:26,571 https://flair.informatik.hu-berlin.de/resources/embeddings/token/id-wiki-fasttext-300d-1M not found in cache, downloading to /tmp/tmpexm8tesz\n",
          "output_type": "stream"
        },
        {
          "name": "stderr",
          "text": "100%|██████████| 11.1M/11.1M [00:01<00:00, 9.30MB/s]",
          "output_type": "stream"
        },
        {
          "name": "stdout",
          "text": "2025-04-21 06:32:28,289 copying /tmp/tmpexm8tesz to cache at /root/.flair/embeddings/id-wiki-fasttext-300d-1M\n2025-04-21 06:32:28,300 removing temp file /tmp/tmpexm8tesz\n",
          "output_type": "stream"
        },
        {
          "name": "stderr",
          "text": "\n",
          "output_type": "stream"
        },
        {
          "name": "stdout",
          "text": "Shape X_train: (3007, 633, 300), X_val: (860, 633, 300), X_test: (430, 633, 300)\n",
          "output_type": "stream"
        }
      ],
      "execution_count": null
    },
    {
      "cell_type": "code",
      "source": [
        "tag_to_idx = defaultdict(lambda: len(tag_to_idx))\n",
        "tag_to_idx[\"PAD\"] = 0\n",
        "\n",
        "for sent in train_sentences:\n",
        "    for _, tag in sent:\n",
        "        _ = tag_to_idx[tag]\n",
        "\n",
        "idx_to_tag = {i: t for t, i in tag_to_idx.items()}\n",
        "\n",
        "def convert_labels(sentences):\n",
        "    return [[tag_to_idx[tag] for _, tag in sent] for sent in sentences]\n",
        "\n",
        "y_train_unpad = convert_labels(train_sentences)\n",
        "y_val_unpad = convert_labels(val_sentences)\n",
        "y_test_unpad = convert_labels(test_sentences)\n",
        "\n",
        "def pad_labels(y):\n",
        "    return np.array([\n",
        "        np.pad(l, (0, MAX_LEN - len(l)), 'constant', constant_values=tag_to_idx[\"PAD\"])\n",
        "        for l in y\n",
        "    ])\n",
        "\n",
        "y_train = pad_labels(y_train_unpad)\n",
        "y_val = pad_labels(y_val_unpad)\n",
        "y_test = pad_labels(y_test_unpad)\n",
        "\n",
        "print(f\"Shape y_train: {y_train.shape}, y_val: {y_val.shape}, y_test: {y_test.shape}\")"
      ],
      "metadata": {
        "id": "O-JjwIX7q3YC",
        "trusted": true,
        "execution": {
          "iopub.status.busy": "2025-04-21T06:34:51.864027Z",
          "iopub.execute_input": "2025-04-21T06:34:51.864343Z",
          "iopub.status.idle": "2025-04-21T06:34:52.058762Z",
          "shell.execute_reply.started": "2025-04-21T06:34:51.864319Z",
          "shell.execute_reply": "2025-04-21T06:34:52.057978Z"
        },
        "outputId": "c50f56c2-e626-45f4-86ab-fd48d2cf00d9"
      },
      "outputs": [
        {
          "name": "stdout",
          "text": "Shape y_train: (3007, 633), y_val: (860, 633), y_test: (430, 633)\n",
          "output_type": "stream"
        }
      ],
      "execution_count": null
    },
    {
      "cell_type": "code",
      "source": [
        "class NERDataset(Dataset):\n",
        "    def __init__(self, X, y):\n",
        "        self.X = torch.tensor(X, dtype=torch.float32)\n",
        "        self.y = torch.tensor(y, dtype=torch.long)\n",
        "\n",
        "    def __len__(self):\n",
        "        return len(self.X)\n",
        "\n",
        "    def __getitem__(self, idx):\n",
        "        return self.X[idx], self.y[idx]"
      ],
      "metadata": {
        "id": "J0QT0FSXq6AZ",
        "trusted": true,
        "execution": {
          "iopub.status.busy": "2025-04-21T06:34:55.229789Z",
          "iopub.execute_input": "2025-04-21T06:34:55.230062Z",
          "iopub.status.idle": "2025-04-21T06:34:55.234651Z",
          "shell.execute_reply.started": "2025-04-21T06:34:55.230042Z",
          "shell.execute_reply": "2025-04-21T06:34:55.233643Z"
        }
      },
      "outputs": [],
      "execution_count": null
    },
    {
      "cell_type": "code",
      "source": [
        "train_loader = DataLoader(NERDataset(X_train, y_train), batch_size=32, shuffle=True)"
      ],
      "metadata": {
        "trusted": true,
        "execution": {
          "iopub.status.busy": "2025-04-21T06:34:57.172222Z",
          "iopub.execute_input": "2025-04-21T06:34:57.172562Z",
          "iopub.status.idle": "2025-04-21T06:34:58.077535Z",
          "shell.execute_reply.started": "2025-04-21T06:34:57.172537Z",
          "shell.execute_reply": "2025-04-21T06:34:58.076770Z"
        },
        "id": "f7xfrIlTRogm"
      },
      "outputs": [],
      "execution_count": null
    },
    {
      "cell_type": "code",
      "source": [
        "import torchcrf\n",
        "\n",
        "class BiLSTM_CRF(nn.Module):\n",
        "    def __init__(self, input_dim, hidden_dim, num_tags):\n",
        "        super(BiLSTM_CRF, self).__init__()\n",
        "        self.lstm = nn.LSTM(input_dim, hidden_dim, bidirectional=True, batch_first=True)\n",
        "        self.fc = nn.Linear(hidden_dim * 2, num_tags)  # Bi-directional output\n",
        "        self.crf = torchcrf.CRF(num_tags, batch_first=True)\n",
        "\n",
        "    def forward(self, x):\n",
        "        lstm_out, _ = self.lstm(x)\n",
        "        emissions = self.fc(lstm_out)\n",
        "        return emissions\n",
        "\n",
        "    def loss(self, x, y, mask):\n",
        "        emissions = self.forward(x)\n",
        "        return -self.crf(emissions, y, mask, reduction=\"mean\")\n",
        "\n",
        "    def predict(self, x, mask):\n",
        "        emissions = self.forward(x)\n",
        "        return self.crf.decode(emissions, mask=mask)\n"
      ],
      "metadata": {
        "id": "WMan4bQLq7Qg",
        "trusted": true,
        "execution": {
          "iopub.status.busy": "2025-04-21T06:35:00.382366Z",
          "iopub.execute_input": "2025-04-21T06:35:00.382764Z",
          "iopub.status.idle": "2025-04-21T06:35:00.391936Z",
          "shell.execute_reply.started": "2025-04-21T06:35:00.382732Z",
          "shell.execute_reply": "2025-04-21T06:35:00.391106Z"
        }
      },
      "outputs": [],
      "execution_count": null
    },
    {
      "cell_type": "code",
      "source": [
        "from itertools import product\n",
        "\n",
        "device = torch.device(\"cuda\" if torch.cuda.is_available() else \"cpu\")\n",
        "\n",
        "# Hyperparameter Grid\n",
        "hidden_dims = [64, 128]\n",
        "learning_rates = [0.001]\n",
        "batch_sizes = [16, 32]\n",
        "\n",
        "results = []\n",
        "\n",
        "for hidden_dim, lr, batch_size in product(hidden_dims, learning_rates, batch_sizes):\n",
        "    print(f\"Training BiLSTM-CRF with hidden_dim={hidden_dim}, lr={lr}, batch_size={batch_size}\")\n",
        "\n",
        "    train_loader = DataLoader(NERDataset(X_train, y_train), batch_size=batch_size, shuffle=True)\n",
        "    val_loader = DataLoader(NERDataset(X_val, y_val), batch_size=batch_size, shuffle=False)\n",
        "    test_loader = DataLoader(NERDataset(X_test, y_test), batch_size=batch_size, shuffle=False)\n",
        "\n",
        "    model = BiLSTM_CRF(input_dim=300, hidden_dim=hidden_dim, num_tags=len(tag_to_idx))\n",
        "    model.to(device)\n",
        "\n",
        "    optimizer = torch.optim.Adam(model.parameters(), lr=lr)\n",
        "\n",
        "    EPOCHS = 10\n",
        "    for epoch in range(EPOCHS):\n",
        "        model.train()\n",
        "        total_loss = 0\n",
        "\n",
        "        for X_batch, y_batch in train_loader:\n",
        "            X_batch, y_batch = X_batch.to(device), y_batch.to(device)\n",
        "            mask = (y_batch != tag_to_idx[\"PAD\"]).to(device) # Exclude PAD label\n",
        "\n",
        "            optimizer.zero_grad()\n",
        "            loss = model.loss(X_batch, y_batch, mask)\n",
        "            loss.backward()\n",
        "            optimizer.step()\n",
        "\n",
        "            total_loss += loss.item()\n",
        "\n",
        "    model.eval()\n",
        "    y_true, y_pred = [], []\n",
        "\n",
        "    with torch.no_grad():\n",
        "        for X_batch, y_batch in val_loader:\n",
        "            X_batch, y_batch = X_batch.to(device), y_batch.to(device)\n",
        "            mask = (y_batch != tag_to_idx[\"PAD\"]).to(device)\n",
        "\n",
        "            predictions = model.predict(X_batch, mask)\n",
        "\n",
        "            for i in range(len(y_batch)):\n",
        "                true_labels = [idx_to_tag[idx.item()] for idx in y_batch[i] if idx.item() != tag_to_idx[\"PAD\"]]\n",
        "                pred_labels = [idx_to_tag[idx] for idx in predictions[i]]\n",
        "\n",
        "                y_true.extend(true_labels)\n",
        "                y_pred.extend(pred_labels)\n",
        "\n",
        "    val_report = classification_report(y_true, y_pred, output_dict=True)\n",
        "    val_f1 = val_report['weighted avg']['f1-score']\n",
        "\n",
        "    results.append({\n",
        "        'hidden_dim': hidden_dim,\n",
        "        'lr': lr,\n",
        "        'batch_size': batch_size,\n",
        "        'val_f1': val_f1\n",
        "    })\n",
        "\n",
        "results_df = pd.DataFrame(results)\n",
        "\n",
        "print(\"\\nHasil Hyperparameter Tuning (Diurutkan dari validasi f1-score terbaik):\")\n",
        "print(results_df.sort_values(by=\"val_f1\", ascending=False))\n"
      ],
      "metadata": {
        "id": "ThI1LpNN0UTQ",
        "trusted": true,
        "execution": {
          "iopub.status.busy": "2025-03-18T06:30:24.346953Z",
          "iopub.execute_input": "2025-03-18T06:30:24.347302Z",
          "iopub.status.idle": "2025-03-18T07:25:44.059762Z",
          "shell.execute_reply.started": "2025-03-18T06:30:24.347272Z",
          "shell.execute_reply": "2025-03-18T07:25:44.059002Z"
        },
        "outputId": "c680c8d5-78da-4be3-d024-9c94d76afc27"
      },
      "outputs": [
        {
          "name": "stdout",
          "text": "Training BiLSTM-CRF with hidden_dim=64, lr=0.001, batch_size=16\nTraining BiLSTM-CRF with hidden_dim=64, lr=0.001, batch_size=32\nTraining BiLSTM-CRF with hidden_dim=128, lr=0.001, batch_size=16\nTraining BiLSTM-CRF with hidden_dim=128, lr=0.001, batch_size=32\n\nHasil Hyperparameter Tuning (Diurutkan dari validasi f1-score terbaik):\n   hidden_dim     lr  batch_size    val_f1\n2         128  0.001          16  0.938080\n0          64  0.001          16  0.937442\n3         128  0.001          32  0.934990\n1          64  0.001          32  0.932390\n",
          "output_type": "stream"
        }
      ],
      "execution_count": null
    },
    {
      "cell_type": "code",
      "source": [
        "device = torch.device(\"cuda\" if torch.cuda.is_available() else \"cpu\")\n",
        "\n",
        "HIDDEN_DIM = 128\n",
        "NUM_TAGS = len(tag_to_idx)\n",
        "\n",
        "batch_size = 16\n",
        "\n",
        "train_loader = DataLoader(NERDataset(X_train, y_train), batch_size=batch_size, shuffle=True)\n",
        "val_loader = DataLoader(NERDataset(X_val, y_val), batch_size=batch_size, shuffle=False)\n",
        "test_loader = DataLoader(NERDataset(X_test, y_test), batch_size=batch_size, shuffle=False)\n",
        "\n",
        "model = BiLSTM_CRF(input_dim=300, hidden_dim=HIDDEN_DIM, num_tags=NUM_TAGS)\n",
        "model.to(device)\n",
        "\n",
        "# Optimizer\n",
        "optimizer = torch.optim.Adam(model.parameters(), lr=0.001)\n",
        "\n",
        "# Training Loop\n",
        "EPOCHS = 10\n",
        "\n",
        "for epoch in range(EPOCHS):\n",
        "    model.train()\n",
        "    total_loss = 0\n",
        "\n",
        "    for X_batch, y_batch in train_loader:\n",
        "        X_batch, y_batch = X_batch.to(device), y_batch.to(device)\n",
        "        mask = (y_batch != tag_to_idx[\"PAD\"]).to(device)\n",
        "\n",
        "        optimizer.zero_grad()\n",
        "        loss = model.loss(X_batch, y_batch, mask)\n",
        "        loss.backward()\n",
        "        optimizer.step()\n",
        "\n",
        "        total_loss += loss.item()\n",
        "\n",
        "    print(f\"Epoch {epoch+1}, Loss: {total_loss / len(train_loader):.4f}\")\n"
      ],
      "metadata": {
        "id": "dkjvHbQ7q8tg",
        "trusted": true,
        "execution": {
          "iopub.status.busy": "2025-04-21T06:35:05.560068Z",
          "iopub.execute_input": "2025-04-21T06:35:05.560403Z",
          "iopub.status.idle": "2025-04-21T06:52:33.446438Z",
          "shell.execute_reply.started": "2025-04-21T06:35:05.560376Z",
          "shell.execute_reply": "2025-04-21T06:52:33.445550Z"
        },
        "outputId": "78480da6-a099-4ddc-90cf-8d996ebd75f0"
      },
      "outputs": [
        {
          "name": "stdout",
          "text": "Epoch 1, Loss: 46.0059\nEpoch 2, Loss: 20.4691\nEpoch 3, Loss: 17.3431\nEpoch 4, Loss: 15.7935\nEpoch 5, Loss: 14.7390\nEpoch 6, Loss: 13.8546\nEpoch 7, Loss: 13.0312\nEpoch 8, Loss: 12.3133\nEpoch 9, Loss: 11.5346\nEpoch 10, Loss: 11.0216\n",
          "output_type": "stream"
        }
      ],
      "execution_count": null
    },
    {
      "cell_type": "code",
      "source": [
        "test_words = [word for sentence in test_sentences for word, _ in sentence]"
      ],
      "metadata": {
        "trusted": true,
        "execution": {
          "iopub.status.busy": "2025-04-21T06:52:36.137766Z",
          "iopub.execute_input": "2025-04-21T06:52:36.138058Z",
          "iopub.status.idle": "2025-04-21T06:52:36.144842Z",
          "shell.execute_reply.started": "2025-04-21T06:52:36.138037Z",
          "shell.execute_reply": "2025-04-21T06:52:36.143896Z"
        },
        "id": "w1WTQfMSRogs"
      },
      "outputs": [],
      "execution_count": null
    },
    {
      "cell_type": "code",
      "source": [
        "model.eval()\n",
        "y_true, y_pred = [], []\n",
        "word_list, pred_list, true_list = [], [], []\n",
        "\n",
        "with torch.no_grad():\n",
        "    for X_batch, y_batch in test_loader:\n",
        "        X_batch, y_batch = X_batch.to(device), y_batch.to(device)\n",
        "        mask = (y_batch != tag_to_idx[\"PAD\"]).to(device)\n",
        "\n",
        "        predictions = model.predict(X_batch, mask)\n",
        "\n",
        "        for i in range(len(y_batch)):\n",
        "            sentence = X_batch[i].cpu().numpy()\n",
        "            true_labels = [idx_to_tag[idx.item()] for idx in y_batch[i] if idx.item() != tag_to_idx[\"PAD\"]]\n",
        "            pred_labels = [idx_to_tag[idx] for idx in predictions[i]]\n",
        "\n",
        "            for word_idx in range(len(true_labels)):\n",
        "                word_list.append(test_words[word_idx])\n",
        "                true_list.append(true_labels[word_idx])\n",
        "                pred_list.append(pred_labels[word_idx])\n",
        "\n",
        "            y_true.extend(true_labels)\n",
        "            y_pred.extend(pred_labels)\n",
        "\n",
        "print(classification_report(y_true, y_pred))"
      ],
      "metadata": {
        "id": "T16SY7q6q-TA",
        "trusted": true,
        "execution": {
          "iopub.status.busy": "2025-04-21T06:52:40.393391Z",
          "iopub.execute_input": "2025-04-21T06:52:40.393690Z",
          "iopub.status.idle": "2025-04-21T06:52:46.586658Z",
          "shell.execute_reply.started": "2025-04-21T06:52:40.393666Z",
          "shell.execute_reply": "2025-04-21T06:52:46.585925Z"
        },
        "outputId": "ea0f9299-1d8e-4f67-c311-035b1c66da0c"
      },
      "outputs": [
        {
          "name": "stdout",
          "text": "              precision    recall  f1-score   support\n\n    B-HSkill       0.74      0.68      0.71      1751\n    B-SSkill       0.86      0.78      0.82      1116\n      B-Tech       0.86      0.90      0.88      1538\n    I-HSkill       0.70      0.73      0.71      1159\n    I-SSkill       0.82      0.61      0.70       377\n      I-Tech       0.72      0.82      0.77       394\n           O       0.97      0.97      0.97     34697\n\n    accuracy                           0.94     41032\n   macro avg       0.81      0.79      0.79     41032\nweighted avg       0.94      0.94      0.94     41032\n\n",
          "output_type": "stream"
        }
      ],
      "execution_count": null
    },
    {
      "cell_type": "code",
      "source": [
        "from seqeval.metrics import classification_report as seqeval_classification_report\n",
        "from sklearn.metrics import confusion_matrix\n",
        "\n",
        "def plot_token_confusion_matrix(y_true, y_pred, idx_to_tag):\n",
        "    # Get all tags except 'O' and PAD\n",
        "    tags = [tag for idx, tag in idx_to_tag.items() if tag not in ['O', 'PAD']]\n",
        "\n",
        "    # Filter out 'O' and PAD tags\n",
        "    filtered_true = []\n",
        "    filtered_pred = []\n",
        "    for t, p in zip(y_true, y_pred):\n",
        "        if t in tags and p in tags:\n",
        "            filtered_true.append(t)\n",
        "            filtered_pred.append(p)\n",
        "\n",
        "    # Create confusion matrix\n",
        "    cm = confusion_matrix(filtered_true, filtered_pred, labels=tags)\n",
        "\n",
        "    # Plot\n",
        "    plt.figure(figsize=(12, 10))\n",
        "    sns.heatmap(cm, annot=True, fmt='d', cmap='Blues',\n",
        "                xticklabels=tags, yticklabels=tags)\n",
        "    plt.title('Token-Level Confusion Matrix (Excluding \"O\")')\n",
        "    plt.xlabel('Predicted')\n",
        "    plt.ylabel('True')\n",
        "    plt.show()"
      ],
      "metadata": {
        "trusted": true,
        "execution": {
          "iopub.status.busy": "2025-04-21T06:52:53.800865Z",
          "iopub.execute_input": "2025-04-21T06:52:53.801140Z",
          "iopub.status.idle": "2025-04-21T06:52:53.811148Z",
          "shell.execute_reply.started": "2025-04-21T06:52:53.801119Z",
          "shell.execute_reply": "2025-04-21T06:52:53.810165Z"
        },
        "id": "AbQh_38IRogs"
      },
      "outputs": [],
      "execution_count": null
    },
    {
      "cell_type": "code",
      "source": [
        "print(\"=== Token-Level Evaluation ===\")\n",
        "plot_token_confusion_matrix(true_list, pred_list, idx_to_tag)"
      ],
      "metadata": {
        "trusted": true,
        "execution": {
          "iopub.status.busy": "2025-04-21T06:52:58.225973Z",
          "iopub.execute_input": "2025-04-21T06:52:58.226244Z",
          "iopub.status.idle": "2025-04-21T06:52:58.680153Z",
          "shell.execute_reply.started": "2025-04-21T06:52:58.226223Z",
          "shell.execute_reply": "2025-04-21T06:52:58.679211Z"
        },
        "id": "FJ343q2uRogt",
        "outputId": "16935e33-fa0e-402b-f6ed-fa1470da928d"
      },
      "outputs": [
        {
          "name": "stdout",
          "text": "=== Token-Level Evaluation ===\n",
          "output_type": "stream"
        },
        {
          "output_type": "display_data",
          "data": {
            "text/plain": "<Figure size 1200x1000 with 2 Axes>",
            "image/png": "[encoded data removed]"
          },
          "metadata": {}
        }
      ],
      "execution_count": null
    },
    {
      "cell_type": "code",
      "source": [
        "from seqeval.metrics import classification_report as seqeval_classification_report\n",
        "from collections import defaultdict\n",
        "\n",
        "def compute_entity_confusion_matrix(true_sentences, pred_sentences, labels):\n",
        "    \"\"\"\n",
        "    Compute a confusion matrix over entity types extracted from token-level IOB sequences.\n",
        "\n",
        "    Parameters:\n",
        "      true_sentences: List of lists of true IOB tags (e.g., [\"B-PER\", \"I-PER\", \"O\", ...])\n",
        "      pred_sentences: List of lists of predicted IOB tags.\n",
        "      labels: List of entity types (e.g., [\"PER\", \"ORG\", \"LOC\"]) to include.\n",
        "\n",
        "    Returns:\n",
        "      A numpy 2D array with shape (len(labels), len(labels)) where rows represent the true\n",
        "      entity types and columns represent the predicted entity types.\n",
        "    \"\"\"\n",
        "    label_to_index = {label: i for i, label in enumerate(labels)}\n",
        "    cm = np.zeros((len(labels), len(labels)), dtype=int)\n",
        "\n",
        "    for true_seq, pred_seq in zip(true_sentences, pred_sentences):\n",
        "        for true_tag, pred_tag in zip(true_seq, pred_seq):\n",
        "            # Skip tokens where either tag is 'O'\n",
        "            if true_tag == 'O' or pred_tag == 'O':\n",
        "                continue\n",
        "            # Extract the entity type (e.g., from \"B-PER\" get \"PER\")\n",
        "            true_type = true_tag.split('-')[1]\n",
        "            pred_type = pred_tag.split('-')[1]\n",
        "            if true_type in label_to_index and pred_type in label_to_index:\n",
        "                cm[label_to_index[true_type], label_to_index[pred_type]] += 1\n",
        "    return cm\n",
        "\n",
        "def entity_level_evaluation(test_sentences, y_true_flat, y_pred_flat):\n",
        "    \"\"\"\n",
        "    Enhanced entity-level evaluation with:\n",
        "    - Complete entity-level confusion matrix (computed with a custom function)\n",
        "    - Error analysis (missed/spurious entities and type errors)\n",
        "    - Most common correct/incorrect entities\n",
        "    \"\"\"\n",
        "    # Reconstruct sentences from the flattened lists using sentence lengths.\n",
        "    true_sentences = []\n",
        "    pred_sentences = []\n",
        "    pos = 0\n",
        "    for sent in test_sentences:\n",
        "        n = len(sent)\n",
        "        true_sentences.append(y_true_flat[pos:pos+n])\n",
        "        pred_sentences.append(y_pred_flat[pos:pos+n])\n",
        "        pos += n\n",
        "\n",
        "    # Entity Classification Report (using seqeval)\n",
        "    print(\"\\n=== Entity-Level Classification Report ===\")\n",
        "    print(seqeval_classification_report(true_sentences, pred_sentences))\n",
        "\n",
        "    # Entity Confusion Matrix: Compute list of unique entity labels\n",
        "    entity_labels = sorted(list(set(\n",
        "        tag.split('-')[1] for sent in true_sentences\n",
        "        for tag in sent if tag != 'O'\n",
        "    )))\n",
        "\n",
        "    ent_cm = compute_entity_confusion_matrix(true_sentences, pred_sentences, entity_labels)\n",
        "\n",
        "    plt.figure(figsize=(12, 10))\n",
        "    sns.heatmap(ent_cm, annot=True, fmt='d', cmap='Blues',\n",
        "                xticklabels=entity_labels, yticklabels=entity_labels)\n",
        "    plt.title('Entity-Level Confusion Matrix')\n",
        "    plt.xlabel('Predicted')\n",
        "    plt.ylabel('True')\n",
        "    plt.show()\n",
        "\n",
        "    # Error Analysis\n",
        "    def extract_entities(tags, words):\n",
        "        \"\"\"\n",
        "        Given a list of IOB tags and corresponding words, extract contiguous entities.\n",
        "\n",
        "        Returns a list of dictionaries with keys:\n",
        "          'text': list of words\n",
        "          'type': entity type\n",
        "          'start': starting index of the entity in the sentence\n",
        "        \"\"\"\n",
        "        entities = []\n",
        "        current = None\n",
        "        for i, (tag, word) in enumerate(zip(tags, words)):\n",
        "            if tag.startswith('B-'):\n",
        "                if current:\n",
        "                    entities.append(current)\n",
        "                current = {'text': [word], 'type': tag[2:], 'start': i}\n",
        "            elif tag.startswith('I-'):\n",
        "                if current:\n",
        "                    current['text'].append(word)\n",
        "            else:\n",
        "                if current:\n",
        "                    entities.append(current)\n",
        "                    current = None\n",
        "        if current:\n",
        "            entities.append(current)\n",
        "        return entities\n",
        "\n",
        "    error_analysis = {\n",
        "        'correct': [],\n",
        "        'missed': [],\n",
        "        'spurious': [],\n",
        "        'type_errors': []\n",
        "    }\n",
        "\n",
        "    for sent, true_tags, pred_tags in zip(test_sentences, true_sentences, pred_sentences):\n",
        "        words = [w for w, _ in sent]\n",
        "        true_ents = extract_entities(true_tags, words)\n",
        "        pred_ents = extract_entities(pred_tags, words)\n",
        "\n",
        "        # Convert to a comparable format: (start_index, entity_text, type)\n",
        "        true_set = {(e['start'], ' '.join(e['text']), e['type']) for e in true_ents}\n",
        "        pred_set = {(e['start'], ' '.join(e['text']), e['type']) for e in pred_ents}\n",
        "\n",
        "        # Correct predictions: entities that exactly match in span and type\n",
        "        for ent in true_set & pred_set:\n",
        "            error_analysis['correct'].append(ent)\n",
        "\n",
        "        # Missed entities (false negatives)\n",
        "        for ent in true_set - pred_set:\n",
        "            error_analysis['missed'].append(ent)\n",
        "\n",
        "        # Spurious entities (false positives)\n",
        "        for ent in pred_set - true_set:\n",
        "            error_analysis['spurious'].append(ent)\n",
        "\n",
        "        # Type errors: same span (start and text), but wrong type\n",
        "        true_spans = {(s, txt) for s, txt, _ in true_set}\n",
        "        pred_spans = {(s, txt) for s, txt, _ in pred_set}\n",
        "        common_spans = true_spans & pred_spans\n",
        "        for span in common_spans:\n",
        "            true_type = next(t for s, txt, t in true_set if (s, txt) == span)\n",
        "            pred_type = next(t for s, txt, t in pred_set if (s, txt) == span)\n",
        "            if true_type != pred_type:\n",
        "                error_analysis['type_errors'].append((span[1], true_type, pred_type))\n",
        "\n",
        "    # Print error statistics\n",
        "    print(\"\\n=== Error Analysis ===\")\n",
        "    print(f\"Correct entities: {len(error_analysis['correct'])}\")\n",
        "    print(f\"Missed entities: {len(error_analysis['missed'])}\")\n",
        "    print(f\"Spurious entities: {len(error_analysis['spurious'])}\")\n",
        "    print(f\"Type errors: {len(error_analysis['type_errors'])}\")\n",
        "\n",
        "    # Show most common errors via DataFrame aggregation\n",
        "    print(\"\\nTop 10 Missed Entities:\")\n",
        "    print(pd.Series([e[1] for e in error_analysis['missed']]).value_counts().head(10))\n",
        "\n",
        "    print(\"\\nTop 10 Spurious Entities:\")\n",
        "    print(pd.Series([e[1] for e in error_analysis['spurious']]).value_counts().head(10))\n",
        "\n",
        "    print(\"\\nTop 10 Type Errors:\")\n",
        "    print(pd.DataFrame(error_analysis['type_errors'],\n",
        "                     columns=['Text', 'True', 'Predicted'])\n",
        "          .value_counts().head(10))\n",
        "\n",
        "    return true_sentences, pred_sentences, error_analysis\n"
      ],
      "metadata": {
        "trusted": true,
        "execution": {
          "iopub.status.busy": "2025-04-21T07:20:31.095216Z",
          "iopub.execute_input": "2025-04-21T07:20:31.095586Z",
          "iopub.status.idle": "2025-04-21T07:20:31.110626Z",
          "shell.execute_reply.started": "2025-04-21T07:20:31.095560Z",
          "shell.execute_reply": "2025-04-21T07:20:31.109845Z"
        },
        "id": "iU5PWkOLRogt"
      },
      "outputs": [],
      "execution_count": null
    },
    {
      "cell_type": "code",
      "source": [
        "true_entities, pred_entities, error_analysis = entity_level_evaluation(test_sentences, true_list, pred_list)"
      ],
      "metadata": {
        "trusted": true,
        "execution": {
          "iopub.status.busy": "2025-04-21T07:22:46.910285Z",
          "iopub.execute_input": "2025-04-21T07:22:46.910645Z",
          "iopub.status.idle": "2025-04-21T07:22:47.736956Z",
          "shell.execute_reply.started": "2025-04-21T07:22:46.910620Z",
          "shell.execute_reply": "2025-04-21T07:22:47.736175Z"
        },
        "id": "V2YhX8EfRogu",
        "outputId": "dc5e4b8c-dea4-448b-e797-3dc31cf8a3a9"
      },
      "outputs": [
        {
          "name": "stdout",
          "text": "\n=== Entity-Level Classification Report ===\n              precision    recall  f1-score   support\n\n      HSkill       0.68      0.63      0.66      1763\n      SSkill       0.83      0.75      0.79      1132\n        Tech       0.82      0.86      0.84      1540\n\n   micro avg       0.77      0.74      0.75      4435\n   macro avg       0.78      0.75      0.76      4435\nweighted avg       0.77      0.74      0.75      4435\n\n",
          "output_type": "stream"
        },
        {
          "output_type": "display_data",
          "data": {
            "text/plain": "<Figure size 1200x1000 with 2 Axes>",
            "image/png": "[encoded data removed]"
          },
          "metadata": {}
        },
        {
          "name": "stdout",
          "text": "\n=== Error Analysis ===\nCorrect entities: 3275\nMissed entities: 1130\nSpurious entities: 982\nType errors: 69\n\nTop 10 Missed Entities:\ntim                17\njaringan           12\nIT                 11\nC #                10\ndatabase            9\nSQL                 7\nsoftware            7\nProgrammer          7\nperangkat lunak     6\nLaravel             6\nName: count, dtype: int64\n\nTop 10 Spurious Entities:\ntim                18\nC                  13\nkomunikasi         12\nperangkat lunak    11\npemrograman        10\nSQL Server          8\njaringan            8\nKomputer            7\nprogram             7\ndatabase            6\nName: count, dtype: int64\n\nTop 10 Type Errors:\nText             True    Predicted\nSQL Server       HSkill  Tech         4\nMVC              HSkill  Tech         2\nSQL              HSkill  Tech         2\n                 Tech    HSkill       2\nanalisa          HSkill  SSkill       2\nTSD              HSkill  Tech         2\nScrum            HSkill  Tech         2\nlogika           HSkill  SSkill       2\nCMS              HSkill  Tech         1\nCode Repository  HSkill  Tech         1\nName: count, dtype: int64\n",
          "output_type": "stream"
        }
      ],
      "execution_count": null
    },
    {
      "cell_type": "code",
      "source": [
        "def prediction_comparison(word_list, true_list, pred_list, idx_to_tag=None):\n",
        "    token_comparison = pd.DataFrame({\n",
        "        \"Word\": word_list,\n",
        "        \"True\": true_list,\n",
        "        \"Predicted\": pred_list\n",
        "    })\n",
        "\n",
        "    # Only keep tokens where the true tag is not 'O'\n",
        "    filtered_tokens = token_comparison[token_comparison[\"True\"] != \"O\"]\n",
        "\n",
        "    # Separate correct and incorrect tokens\n",
        "    df_correct = filtered_tokens[filtered_tokens[\"True\"] == filtered_tokens[\"Predicted\"]]\n",
        "    df_incorrect = filtered_tokens[filtered_tokens[\"True\"] != filtered_tokens[\"Predicted\"]]\n",
        "\n",
        "    print(\"✅ Correct Token-Level Predictions (First 20):\")\n",
        "    print(df_correct.head(20).to_string(index=False))\n",
        "\n",
        "    print(\"\\n❌ Incorrect Token-Level Predictions (First 20):\")\n",
        "    print(df_incorrect.head(20).to_string(index=False))\n",
        "\n",
        "    correct_entities = []\n",
        "    incorrect_entities = []\n",
        "\n",
        "    # We'll accumulate tokens that form one entity into current_entity_words,\n",
        "    # and store the true and predicted entity types.\n",
        "    current_entity_words = []\n",
        "    current_entity_true = None\n",
        "    current_entity_pred = None\n",
        "\n",
        "    # Helper function to flush the current entity into the proper list.\n",
        "    def flush_entity():\n",
        "        nonlocal current_entity_words, current_entity_true, current_entity_pred\n",
        "        if current_entity_words:\n",
        "            entity_text = \" \".join(current_entity_words)\n",
        "            if current_entity_true == current_entity_pred:\n",
        "                correct_entities.append({\n",
        "                    \"Entity\": entity_text,\n",
        "                    \"Type\": current_entity_true\n",
        "                })\n",
        "            else:\n",
        "                incorrect_entities.append({\n",
        "                    \"Entity\": entity_text,\n",
        "                    \"True\": current_entity_true,\n",
        "                    \"Predicted\": current_entity_pred\n",
        "                })\n",
        "            # Reset the current entity.\n",
        "            current_entity_words = []\n",
        "            current_entity_true = None\n",
        "            current_entity_pred = None\n",
        "\n",
        "    # Iterate over all tokens.\n",
        "    for word, true_tag, pred_tag in zip(word_list, true_list, pred_list):\n",
        "        # Skip tokens that are 'O'\n",
        "        if true_tag == \"O\":\n",
        "            flush_entity()  # End any in-progress entity\n",
        "            continue\n",
        "\n",
        "        # If it's the beginning of a new entity\n",
        "        if true_tag.startswith(\"B-\"):\n",
        "            flush_entity()  # Flush any previous entity first\n",
        "            current_entity_words = [word]\n",
        "            # Extract the entity type (e.g., from \"B-PER\" get \"PER\")\n",
        "            current_entity_true = true_tag.split(\"-\")[1]\n",
        "            current_entity_pred = pred_tag.split(\"-\")[1] if pred_tag != \"O\" else \"O\"\n",
        "        # Continuation of an entity\n",
        "        elif true_tag.startswith(\"I-\"):\n",
        "            # If there is an ongoing entity, append the word.\n",
        "            if current_entity_words:\n",
        "                current_entity_words.append(word)\n",
        "            else:\n",
        "                # If an \"I-\" appears without a preceding \"B-\", start new.\n",
        "                current_entity_words = [word]\n",
        "                current_entity_true = true_tag.split(\"-\")[1]\n",
        "                current_entity_pred = pred_tag.split(\"-\")[1] if pred_tag != \"O\" else \"O\"\n",
        "        else:\n",
        "            # In case there's an unexpected tag format, flush any ongoing entity.\n",
        "            flush_entity()\n",
        "\n",
        "    # Flush any entity that remains at the end.\n",
        "    flush_entity()\n",
        "\n",
        "    df_entities_correct = pd.DataFrame(correct_entities)\n",
        "    df_entities_incorrect = pd.DataFrame(incorrect_entities)\n",
        "\n",
        "    print(\"\\n✅ Correct Entity-Level Predictions (First 10):\")\n",
        "    if not df_entities_correct.empty:\n",
        "        print(df_entities_correct.head(10).to_string(index=False))\n",
        "    else:\n",
        "        print(\"No correct entity predictions found.\")\n",
        "\n",
        "    print(\"\\n❌ Incorrect Entity-Level Predictions (First 10):\")\n",
        "    if not df_entities_incorrect.empty:\n",
        "        print(df_entities_incorrect.head(10).to_string(index=False))\n",
        "    else:\n",
        "        print(\"No incorrect entity predictions found.\")\n",
        "\n",
        "    return token_comparison, df_entities_correct, df_entities_incorrect\n"
      ],
      "metadata": {
        "trusted": true,
        "execution": {
          "iopub.status.busy": "2025-04-21T07:09:23.919418Z",
          "iopub.execute_input": "2025-04-21T07:09:23.919710Z",
          "iopub.status.idle": "2025-04-21T07:09:23.929557Z",
          "shell.execute_reply.started": "2025-04-21T07:09:23.919689Z",
          "shell.execute_reply": "2025-04-21T07:09:23.928658Z"
        },
        "id": "Gw9EL3uiRogv"
      },
      "outputs": [],
      "execution_count": null
    },
    {
      "cell_type": "code",
      "source": [
        "token_comparison, df_entities_correct, df_entities_incorrect = prediction_comparison(word_list, true_list, pred_list)"
      ],
      "metadata": {
        "trusted": true,
        "execution": {
          "iopub.status.busy": "2025-04-21T07:27:04.493492Z",
          "iopub.execute_input": "2025-04-21T07:27:04.493833Z",
          "iopub.status.idle": "2025-04-21T07:27:04.530195Z",
          "shell.execute_reply.started": "2025-04-21T07:27:04.493806Z",
          "shell.execute_reply": "2025-04-21T07:27:04.529408Z"
        },
        "id": "qLoadLFKRogw",
        "outputId": "6f26fa70-bec1-46e7-835b-90b454719c91"
      },
      "outputs": [
        {
          "name": "stdout",
          "text": "✅ Correct Token-Level Predictions (First 20):\n       Word     True Predicted\n      React   B-Tech    B-Tech\n     Native   I-Tech    I-Tech\ndevelopment   I-Tech    I-Tech\n  integrasi B-HSkill  B-HSkill\n     native I-HSkill  I-HSkill\n  libraries I-HSkill  I-HSkill\n        git   B-Tech    B-Tech\n        ioS   B-Tech    B-Tech\n   debuging B-HSkill  B-HSkill\n       baik   B-Tech    B-Tech\n    tentang B-HSkill  B-HSkill\nkonfigurasi I-HSkill  I-HSkill\n    project   B-Tech    B-Tech\n    Android   I-Tech    I-Tech\n      party B-SSkill  B-SSkill\n         di B-SSkill  B-SSkill\n    Jakarta I-SSkill  I-SSkill\n      tahun I-HSkill  I-HSkill\n      React B-HSkill  B-HSkill\n     Native I-HSkill  I-HSkill\n\n❌ Incorrect Token-Level Predictions (First 20):\n       Word     True Predicted\ndevelopment B-HSkill         O\n   debuging B-HSkill         O\n      tools I-HSkill         O\n    Android   B-Tech  I-HSkill\n          .   I-Tech         O\n Pendidikan B-SSkill         O\n pengalaman B-HSkill         O\n        dan B-HSkill         O\n       dari B-HSkill         O\n          2 I-HSkill  B-HSkill\n        ini B-HSkill         O\n       dari B-HSkill  I-HSkill\n       pada   I-Tech         O\n     bidang   I-Tech         O\ndevelopment B-HSkill         O\n          / B-SSkill         O\n    bekerja B-SSkill         O\n          ,   I-Tech         O\n     tinggi B-HSkill  I-HSkill\n       baik B-HSkill  I-HSkill\n\n✅ Correct Entity-Level Predictions (First 10):\n                    Entity   Type\n  React Native development   Tech\nintegrasi native libraries HSkill\n                       git   Tech\n                       ioS   Tech\n                  debuging HSkill\n                    baik .   Tech\n       tentang konfigurasi HSkill\n           project Android   Tech\n                     party SSkill\n                di Jakarta SSkill\n\n❌ Incorrect Entity-Level Predictions (First 10):\n        Entity   True Predicted\n   development HSkill         O\ndebuging tools HSkill         O\n       Android   Tech    HSkill\n    Pendidikan SSkill         O\n    pengalaman HSkill         O\n           dan HSkill         O\n  dari 2 tahun HSkill         O\n           ini HSkill         O\n   development HSkill         O\n             / SSkill         O\n",
          "output_type": "stream"
        }
      ],
      "execution_count": null
    }
  ]
}